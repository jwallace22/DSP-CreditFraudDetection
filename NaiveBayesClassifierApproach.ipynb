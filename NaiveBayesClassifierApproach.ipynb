{
 "cells": [
  {
   "cell_type": "markdown",
   "metadata": {},
   "source": [
    "## EE 461P: Data Science Principles  \n",
    "### Term Project\n",
    "### Blog Due: May 13, 2021 \n",
    "### Presentation May 4, 2021\n",
    "\n",
    "\n",
    "\n"
   ]
  },
  {
   "cell_type": "code",
   "execution_count": 7,
   "metadata": {},
   "outputs": [
    {
     "name": "stdout",
     "output_type": "stream",
     "text": [
      "data loaded\n"
     ]
    }
   ],
   "source": [
    "from sklearn import linear_model\n",
    "from sklearn.linear_model import LinearRegression\n",
    "from sklearn.model_selection import train_test_split\n",
    "from sklearn.feature_selection import SequentialFeatureSelector\n",
    "import os, sys, re\n",
    "import time\n",
    "import numpy as np\n",
    "import pandas as pd\n",
    "from sklearn.model_selection import train_test_split\n",
    "from sklearn.preprocessing import MinMaxScaler,StandardScaler\n",
    "from sklearn.metrics import plot_roc_curve \n",
    "import matplotlib.pyplot as plt\n",
    "from sklearn.metrics import roc_curve, roc_auc_score\n",
    "from sklearn.metrics import r2_score\n",
    "from sklearn.naive_bayes import BernoulliNB\n",
    "\n",
    "#Load dataset from csv file\n",
    "df = pd.read_csv(\"PS_20174392719_1491204439457_log.csv\")\n",
    "print(\"data loaded\")"
   ]
  },
  {
   "cell_type": "code",
   "execution_count": 8,
   "metadata": {},
   "outputs": [
    {
     "name": "stdout",
     "output_type": "stream",
     "text": [
      "data processed\n"
     ]
    }
   ],
   "source": [
    "#Data preprocessing \n",
    "df = pd.get_dummies(df, prefix_sep=\"_\", columns=['type'])\n",
    "for col in [\"nameOrig\",\"nameDest\"]:\n",
    "    df[col] = df[col].astype('category')\n",
    "    df[col] = df[col].cat.codes\n",
    "df[\"unequalChangeAccounts\"] = np.where((df[\"oldbalanceOrg\"]-df[\"newbalanceOrig\"])!=(df[\"newbalanceDest\"]-df[\"oldbalanceDest\"]),1,0)\n",
    "df[\"flowDirection\"] = np.where((df[\"oldbalanceOrg\"]-df[\"newbalanceOrig\"])<(df[\"oldbalanceDest\"]-df[\"newbalanceDest\"]),1,0)\n",
    "df[\"unequalChangeAmount1\"] = np.where((df[\"amount\"])!=abs(df[\"newbalanceOrig\"]-df[\"oldbalanceOrg\"]),1,0)\n",
    "df[\"unequalChangeAmount2\"] = np.where((df[\"amount\"])!=abs(df[\"newbalanceDest\"]-df[\"oldbalanceDest\"]),1,0)\n",
    "df = df.drop([\"oldbalanceOrg\",\"newbalanceOrig\",\"newbalanceDest\",\"oldbalanceDest\",\"amount\",\"isFlaggedFraud\",\"step\"],axis=1)\n",
    "fraud_rows = df[df['isFraud']==1].copy()\n",
    "not_fraud_rows = df[df['isFraud']==0].copy()\n",
    "X=df\n",
    "y = df.pop(\"isFraud\")\n",
    "X_tr, X_te, y_tr, y_te = train_test_split(X,y, test_size=0.25, random_state = 42)\n",
    "f_y = fraud_rows.pop(\"isFraud\")\n",
    "f_x = fraud_rows\n",
    "nf_y = not_fraud_rows.pop(\"isFraud\")\n",
    "nf_x = not_fraud_rows\n",
    "print(\"data processed\")"
   ]
  },
  {
   "cell_type": "code",
   "execution_count": null,
   "metadata": {},
   "outputs": [],
   "source": []
  },
  {
   "cell_type": "code",
   "execution_count": 9,
   "metadata": {},
   "outputs": [
    {
     "name": "stdout",
     "output_type": "stream",
     "text": [
      "Model Accuracy on All Test Data: 0.9774998349736429\n",
      "Model Accuracy for predicting true fraud: 0.9902593449409473\n",
      "Model Accuracy for predicting true not fraud: 0.9773210938487258\n",
      "152244\n",
      "8213\n",
      "0.9928036685790221\n"
     ]
    }
   ],
   "source": [
    "bnb = BernoulliNB(fit_prior=False)\n",
    "bnb.fit(X_tr,y_tr)\n",
    "print(\"Model Accuracy on All Test Data: {}\".format(bnb.score(X_te,y_te)))\n",
    "print(\"Model Accuracy for predicting true fraud: {}\".format(bnb.score(f_x,f_y)))\n",
    "print(\"Model Accuracy for predicting true not fraud: {}\".format(bnb.score(nf_x,nf_y)))\n",
    "print(sum(bnb.predict(X)))\n",
    "print(sum(y))\n",
    "print(roc_auc_score(y_te,bnb.predict_proba(X_te)[:,1]))"
   ]
  },
  {
   "cell_type": "code",
   "execution_count": 13,
   "metadata": {},
   "outputs": [
    {
     "name": "stdout",
     "output_type": "stream",
     "text": [
      "[-1.62087690e-04 -1.62087690e-04 -8.72745412e+00 -6.90234086e-01\n",
      " -8.72745412e+00 -8.72745412e+00 -6.96068786e-01 -3.05671110e-01\n",
      " -6.32955884e+00 -4.77621040e+00 -3.05451112e-01]\n"
     ]
    },
    {
     "name": "stderr",
     "output_type": "stream",
     "text": [
      "C:\\Users\\jwall\\Anaconda3\\lib\\site-packages\\sklearn\\utils\\deprecation.py:101: FutureWarning: Attribute coef_ was deprecated in version 0.24 and will be removed in 1.1 (renaming of 0.26).\n",
      "  warnings.warn(msg, category=FutureWarning)\n"
     ]
    },
    {
     "data": {
      "image/png": "[encoded data removed]",
      "text/plain": [
       "<Figure size 432x288 with 2 Axes>"
      ]
     },
     "metadata": {
      "needs_background": "light"
     },
     "output_type": "display_data"
    }
   ],
   "source": [
    "from sklearn.metrics import plot_confusion_matrix\n",
    "plot_confusion_matrix(bnb, X_te, y_te)\n",
    "for feature,coef in zip(bnb.classes_,bnb.coef_):\n",
    "    print(coef)"
   ]
  },
  {
   "cell_type": "code",
   "execution_count": null,
   "metadata": {},
   "outputs": [],
   "source": []
  }
 ],
 "metadata": {
  "kernelspec": {
   "display_name": "Python 3",
   "language": "python",
   "name": "python3"
  },
  "language_info": {
   "codemirror_mode": {
    "name": "ipython",
    "version": 3
   },
   "file_extension": ".py",
   "mimetype": "text/x-python",
   "name": "python",
   "nbconvert_exporter": "python",
   "pygments_lexer": "ipython3",
   "version": "3.7.3"
  }
 },
 "nbformat": 4,
 "nbformat_minor": 2
}
