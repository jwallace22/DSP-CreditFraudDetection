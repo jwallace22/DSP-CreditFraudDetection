{
 "cells": [
  {
   "cell_type": "markdown",
   "metadata": {},
   "source": [
    "## EE 461P: Data Science Principles  \n",
    "### Term Project\n",
    "### Blog Due: May 13, 2021 \n",
    "### Presentation May 4, 2021\n",
    "\n",
    "\n",
    "\n"
   ]
  },
  {
   "cell_type": "code",
   "execution_count": 8,
   "metadata": {},
   "outputs": [
    {
     "name": "stdout",
     "output_type": "stream",
     "text": [
      "loading data\n"
     ]
    }
   ],
   "source": [
    "from sklearn import linear_model\n",
    "from sklearn.linear_model import LinearRegression\n",
    "from sklearn.model_selection import train_test_split\n",
    "from sklearn.feature_selection import SequentialFeatureSelector\n",
    "import os, sys, re\n",
    "import time\n",
    "import numpy as np\n",
    "import pandas as pd\n",
    "from sklearn.model_selection import train_test_split\n",
    "from sklearn.preprocessing import MinMaxScaler,StandardScaler\n",
    "from sklearn.metrics import plot_roc_curve \n",
    "import matplotlib.pyplot as plt\n",
    "\n",
    "from sklearn.metrics import r2_score\n",
    "from sklearn.naive_bayes import BernoulliNB\n",
    "\n",
    "#Load dataset from csv file\n",
    "print(\"loading data\")\n",
    "df = pd.read_csv(\"PS_20174392719_1491204439457_log.csv\")\n",
    "df.drop(columns=['isFlaggedFraud'])\n",
    "y = df.pop(\"isFraud\")\n",
    "X = df.select_dtypes(exclude=[\"object\"])\n",
    "X_tr, X_te, y_tr, y_te = train_test_split(X,y, test_size=0.35, random_state = 42)\n",
    "bnb = BernoulliNB(fit_prior=True)"
   ]
  },
  {
   "cell_type": "code",
   "execution_count": 10,
   "metadata": {},
   "outputs": [
    {
     "name": "stdout",
     "output_type": "stream",
     "text": [
      "starting fit\n",
      "starting predictions\n",
      "R2 Score: 0.0011804767421901285\n",
      "0.9987242452233289\n"
     ]
    }
   ],
   "source": [
    "print(\"starting fit\")\n",
    "bnb.fit(X_tr,y_tr)\n",
    "print(\"starting predictions\")\n",
    "print(\"R2 Score: \"+str(r2_score(y_te, bnb.predict(X_te))))\n",
    "print(bnb.score(X_te,y_te))"
   ]
  },
  {
   "cell_type": "code",
   "execution_count": null,
   "metadata": {},
   "outputs": [],
   "source": []
  }
 ],
 "metadata": {
  "kernelspec": {
   "display_name": "Python 3",
   "language": "python",
   "name": "python3"
  },
  "language_info": {
   "codemirror_mode": {
    "name": "ipython",
    "version": 3
   },
   "file_extension": ".py",
   "mimetype": "text/x-python",
   "name": "python",
   "nbconvert_exporter": "python",
   "pygments_lexer": "ipython3",
   "version": "3.7.3"
  }
 },
 "nbformat": 4,
 "nbformat_minor": 2
}
