{
 "cells": [
  {
   "cell_type": "code",
   "execution_count": 1,
   "metadata": {},
   "outputs": [
    {
     "name": "stdout",
     "output_type": "stream",
     "text": [
      "   step      type    amount     nameOrig  oldbalanceOrg  newbalanceOrig  \\\n",
      "0     1   PAYMENT   9839.64  C1231006815       170136.0       160296.36   \n",
      "1     1   PAYMENT   1864.28  C1666544295        21249.0        19384.72   \n",
      "2     1  TRANSFER    181.00  C1305486145          181.0            0.00   \n",
      "3     1  CASH_OUT    181.00   C840083671          181.0            0.00   \n",
      "4     1   PAYMENT  11668.14  C2048537720        41554.0        29885.86   \n",
      "\n",
      "      nameDest  oldbalanceDest  newbalanceDest  isFraud  isFlaggedFraud  \n",
      "0  M1979787155             0.0             0.0        0               0  \n",
      "1  M2044282225             0.0             0.0        0               0  \n",
      "2   C553264065             0.0             0.0        1               0  \n",
      "3    C38997010         21182.0             0.0        1               0  \n",
      "4  M1230701703             0.0             0.0        0               0  \n"
     ]
    }
   ],
   "source": [
    "import numpy as np # linear algebra\n",
    "import pandas as pd # data processing, CSV file I/O (e.g. pd.read_csv)\n",
    "import matplotlib.pyplot as plt\n",
    "from sklearn import svm\n",
    "from sklearn.svm import SVC\n",
    "from sklearn.metrics import classification_report\n",
    "from sklearn.metrics import confusion_matrix\n",
    "from sklearn.metrics import f1_score\n",
    "from sklearn.metrics import accuracy_score\n",
    "from sklearn.metrics import recall_score\n",
    "from sklearn.metrics import precision_score, precision_recall_curve\n",
    "from sklearn.metrics import roc_auc_score, roc_curve, auc, average_precision_score\n",
    "from sklearn.linear_model import LinearRegression\n",
    "from sklearn.preprocessing import StandardScaler\n",
    "from sklearn.model_selection import train_test_split\n",
    "from sklearn.metrics import plot_confusion_matrix\n",
    "import warnings\n",
    "warnings.filterwarnings('ignore')\n",
    "\n",
    "df = pd.read_csv(\"PS_20174392719_1491204439457_log.csv\")\n",
    "print(df.head())"
   ]
  },
  {
   "cell_type": "code",
   "execution_count": 2,
   "metadata": {},
   "outputs": [
    {
     "name": "stdout",
     "output_type": "stream",
     "text": [
      "   step    amount  nameOrig  oldbalanceOrg  newbalanceOrig  nameDest  \\\n",
      "0     1   9839.64    757869       170136.0       160296.36   1662094   \n",
      "1     1   1864.28   2188998        21249.0        19384.72   1733924   \n",
      "2     1    181.00   1002156          181.0            0.00    439685   \n",
      "3     1    181.00   5828262          181.0            0.00    391696   \n",
      "4     1  11668.14   3445981        41554.0        29885.86    828919   \n",
      "\n",
      "   oldbalanceDest  newbalanceDest  isFlaggedFraud  type_CASH_IN  \\\n",
      "0             0.0             0.0               0             0   \n",
      "1             0.0             0.0               0             0   \n",
      "2             0.0             0.0               0             0   \n",
      "3         21182.0             0.0               0             0   \n",
      "4             0.0             0.0               0             0   \n",
      "\n",
      "   type_CASH_OUT  type_DEBIT  type_PAYMENT  type_TRANSFER  \n",
      "0              0           0             1              0  \n",
      "1              0           0             1              0  \n",
      "2              0           0             0              1  \n",
      "3              1           0             0              0  \n",
      "4              0           0             1              0  \n"
     ]
    }
   ],
   "source": [
    "df = pd.get_dummies(df, prefix_sep=\"_\", columns=['type'])\n",
    "for col in [\"nameOrig\",\"nameDest\"]:\n",
    "    df[col] = df[col].astype('category')\n",
    "    df[col] = df[col].cat.codes\n",
    "    \n",
    "X = df.drop('isFraud', 1)\n",
    "y = df.isFraud\n",
    "X_train, X_test, y_train, y_test = train_test_split(X, y, test_size=0.25, random_state = 42)\n",
    "print(X.head())"
   ]
  },
  {
   "cell_type": "code",
   "execution_count": 4,
   "metadata": {},
   "outputs": [],
   "source": [
    "#Using the rbf kernel to build the initial model.\n",
    "# classifier= svm.SVC(C= 1, kernel= 'linear', random_state= 0)\n",
    "regressor = LinearRegression()\n",
    "\n",
    "# #Fit into Model\n",
    "regressor.fit(X_train, y_train)\n",
    "\n",
    "# #Predict the class using X_test\n",
    "y_pred = regressor.predict(X_test)"
   ]
  },
  {
   "cell_type": "code",
   "execution_count": 8,
   "metadata": {},
   "outputs": [
    {
     "name": "stdout",
     "output_type": "stream",
     "text": [
      "*****************************************************************\n",
      "Area under the curve : 0.941019\n",
      "Mean Absolute Error: 0.005625636708995437\n",
      "Mean Squared Error: 0.001057313990300586\n",
      "Root Mean Squared Error: 0.03251636496136347\n",
      "*****************************************************************\n"
     ]
    }
   ],
   "source": [
    "from sklearn import metrics\n",
    "\n",
    "# con_mat = confusion_matrix(y_test, y_pred)\n",
    "# average_precision = average_precision_score(y_test, y_pred)\n",
    "# cls_report = classification_report(y_test, y_pred)\n",
    "\n",
    "print(\"*****************************************************************\")\n",
    "print(\"Area under the curve : %f\" % (roc_auc_score(y_test, y_pred)))\n",
    "print('Mean Absolute Error:', metrics.mean_absolute_error(y_test, y_pred))\n",
    "print('Mean Squared Error:', metrics.mean_squared_error(y_test, y_pred))\n",
    "print('Root Mean Squared Error:', np.sqrt(metrics.mean_squared_error(y_test, y_pred)))\n",
    "# print(\"Average precision-recall score RF: {}\".format(average_precision))\n",
    "# print(con_mat)\n",
    "# print(cls_report)\n",
    "print(\"*****************************************************************\")"
   ]
  },
  {
   "cell_type": "code",
   "execution_count": null,
   "metadata": {},
   "outputs": [],
   "source": []
  }
 ],
 "metadata": {
  "kernelspec": {
   "display_name": "Python 3",
   "language": "python",
   "name": "python3"
  },
  "language_info": {
   "codemirror_mode": {
    "name": "ipython",
    "version": 3
   },
   "file_extension": ".py",
   "mimetype": "text/x-python",
   "name": "python",
   "nbconvert_exporter": "python",
   "pygments_lexer": "ipython3",
   "version": "3.8.5"
  }
 },
 "nbformat": 4,
 "nbformat_minor": 4
}
