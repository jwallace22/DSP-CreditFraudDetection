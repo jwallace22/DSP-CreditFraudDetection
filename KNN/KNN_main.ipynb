{
  "nbformat": 4,
  "nbformat_minor": 0,
  "metadata": {
    "colab": {
      "name": "KNN.ipynb",
      "provenance": [],
      "collapsed_sections": [],
      "machine_shape": "hm"
    },
    "kernelspec": {
      "name": "python3",
      "display_name": "Python 3"
    },
    "language_info": {
      "name": "python"
    }
  },
  "cells": [
    {
      "cell_type": "code",
      "metadata": {
        "colab": {
          "base_uri": "https://localhost:8080/"
        },
        "id": "CtahhFHgGe58",
        "outputId": "0ff80f69-9445-4f66-90ad-967c97a457c1"
      },
      "source": [
        "!pip install --upgrade scikit-learn"
      ],
      "execution_count": null,
      "outputs": [
        {
          "output_type": "stream",
          "text": [
            "Collecting scikit-learn\n",
            "\u001b[?25l  Downloading https://files.pythonhosted.org/packages/a8/eb/a48f25c967526b66d5f1fa7a984594f0bf0a5afafa94a8c4dbc317744620/scikit_learn-0.24.2-cp37-cp37m-manylinux2010_x86_64.whl (22.3MB)\n",
            "\u001b[K     |████████████████████████████████| 22.3MB 1.7MB/s \n",
            "\u001b[?25hRequirement already satisfied, skipping upgrade: scipy>=0.19.1 in /usr/local/lib/python3.7/dist-packages (from scikit-learn) (1.4.1)\n",
            "Requirement already satisfied, skipping upgrade: numpy>=1.13.3 in /usr/local/lib/python3.7/dist-packages (from scikit-learn) (1.19.5)\n",
            "Requirement already satisfied, skipping upgrade: joblib>=0.11 in /usr/local/lib/python3.7/dist-packages (from scikit-learn) (1.0.1)\n",
            "Collecting threadpoolctl>=2.0.0\n",
            "  Downloading https://files.pythonhosted.org/packages/f7/12/ec3f2e203afa394a149911729357aa48affc59c20e2c1c8297a60f33f133/threadpoolctl-2.1.0-py3-none-any.whl\n",
            "Installing collected packages: threadpoolctl, scikit-learn\n",
            "  Found existing installation: scikit-learn 0.22.2.post1\n",
            "    Uninstalling scikit-learn-0.22.2.post1:\n",
            "      Successfully uninstalled scikit-learn-0.22.2.post1\n",
            "Successfully installed scikit-learn-0.24.2 threadpoolctl-2.1.0\n"
          ],
          "name": "stdout"
        }
      ]
    },
    {
      "cell_type": "code",
      "metadata": {
        "id": "j-EGkV2rEIGs",
        "colab": {
          "base_uri": "https://localhost:8080/"
        },
        "outputId": "35347175-5b92-4f0b-e11c-93422c146cfd"
      },
      "source": [
        "import pandas as pd\n",
        "import pandas as pd\n",
        "import numpy as np\n",
        "import seaborn as sns\n",
        "import matplotlib.pyplot as plt\n",
        "from sklearn.model_selection import train_test_split\n",
        "from sklearn.feature_selection import SequentialFeatureSelector\n",
        "from sklearn.preprocessing import LabelEncoder\n",
        "from sklearn.neighbors import KNeighborsClassifier\n",
        "from sklearn.model_selection import GridSearchCV, cross_val_score\n",
        "from sklearn.metrics import roc_auc_score, classification_report,confusion_matrix, accuracy_score\n",
        "from sklearn import metrics\n",
        "from sklearn.metrics import plot_confusion_matrix\n",
        "from sklearn.preprocessing import StandardScaler, OneHotEncoder, MinMaxScaler\n",
        "from google.colab import drive\n",
        "drive.mount('/content/drive')"
      ],
      "execution_count": null,
      "outputs": [
        {
          "output_type": "stream",
          "text": [
            "Mounted at /content/drive\n"
          ],
          "name": "stdout"
        }
      ]
    },
    {
      "cell_type": "markdown",
      "metadata": {
        "id": "6NZ1CMIJyQnD"
      },
      "source": [
        "**Data Processing**"
      ]
    },
    {
      "cell_type": "code",
      "metadata": {
        "colab": {
          "base_uri": "https://localhost:8080/",
          "height": 204
        },
        "id": "24A2k0edHCL2",
        "outputId": "18c9d111-27da-4474-a946-8b78a0378f3b"
      },
      "source": [
        "filesPath001=\"/content/drive/My Drive/Datasets/PS_20174392719_1491204439457_log.csv\"\n",
        "finInfo = pd.read_csv(filesPath001)\n",
        "finInfo.head()"
      ],
      "execution_count": null,
      "outputs": [
        {
          "output_type": "execute_result",
          "data": {
            "text/html": [
              "<div>\n",
              "<style scoped>\n",
              "    .dataframe tbody tr th:only-of-type {\n",
              "        vertical-align: middle;\n",
              "    }\n",
              "\n",
              "    .dataframe tbody tr th {\n",
              "        vertical-align: top;\n",
              "    }\n",
              "\n",
              "    .dataframe thead th {\n",
              "        text-align: right;\n",
              "    }\n",
              "</style>\n",
              "<table border=\"1\" class=\"dataframe\">\n",
              "  <thead>\n",
              "    <tr style=\"text-align: right;\">\n",
              "      <th></th>\n",
              "      <th>step</th>\n",
              "      <th>type</th>\n",
              "      <th>amount</th>\n",
              "      <th>nameOrig</th>\n",
              "      <th>oldbalanceOrg</th>\n",
              "      <th>newbalanceOrig</th>\n",
              "      <th>nameDest</th>\n",
              "      <th>oldbalanceDest</th>\n",
              "      <th>newbalanceDest</th>\n",
              "      <th>isFraud</th>\n",
              "      <th>isFlaggedFraud</th>\n",
              "    </tr>\n",
              "  </thead>\n",
              "  <tbody>\n",
              "    <tr>\n",
              "      <th>0</th>\n",
              "      <td>1</td>\n",
              "      <td>PAYMENT</td>\n",
              "      <td>9839.64</td>\n",
              "      <td>C1231006815</td>\n",
              "      <td>170136.0</td>\n",
              "      <td>160296.36</td>\n",
              "      <td>M1979787155</td>\n",
              "      <td>0.0</td>\n",
              "      <td>0.0</td>\n",
              "      <td>0</td>\n",
              "      <td>0</td>\n",
              "    </tr>\n",
              "    <tr>\n",
              "      <th>1</th>\n",
              "      <td>1</td>\n",
              "      <td>PAYMENT</td>\n",
              "      <td>1864.28</td>\n",
              "      <td>C1666544295</td>\n",
              "      <td>21249.0</td>\n",
              "      <td>19384.72</td>\n",
              "      <td>M2044282225</td>\n",
              "      <td>0.0</td>\n",
              "      <td>0.0</td>\n",
              "      <td>0</td>\n",
              "      <td>0</td>\n",
              "    </tr>\n",
              "    <tr>\n",
              "      <th>2</th>\n",
              "      <td>1</td>\n",
              "      <td>TRANSFER</td>\n",
              "      <td>181.00</td>\n",
              "      <td>C1305486145</td>\n",
              "      <td>181.0</td>\n",
              "      <td>0.00</td>\n",
              "      <td>C553264065</td>\n",
              "      <td>0.0</td>\n",
              "      <td>0.0</td>\n",
              "      <td>1</td>\n",
              "      <td>0</td>\n",
              "    </tr>\n",
              "    <tr>\n",
              "      <th>3</th>\n",
              "      <td>1</td>\n",
              "      <td>CASH_OUT</td>\n",
              "      <td>181.00</td>\n",
              "      <td>C840083671</td>\n",
              "      <td>181.0</td>\n",
              "      <td>0.00</td>\n",
              "      <td>C38997010</td>\n",
              "      <td>21182.0</td>\n",
              "      <td>0.0</td>\n",
              "      <td>1</td>\n",
              "      <td>0</td>\n",
              "    </tr>\n",
              "    <tr>\n",
              "      <th>4</th>\n",
              "      <td>1</td>\n",
              "      <td>PAYMENT</td>\n",
              "      <td>11668.14</td>\n",
              "      <td>C2048537720</td>\n",
              "      <td>41554.0</td>\n",
              "      <td>29885.86</td>\n",
              "      <td>M1230701703</td>\n",
              "      <td>0.0</td>\n",
              "      <td>0.0</td>\n",
              "      <td>0</td>\n",
              "      <td>0</td>\n",
              "    </tr>\n",
              "  </tbody>\n",
              "</table>\n",
              "</div>"
            ],
            "text/plain": [
              "   step      type    amount  ... newbalanceDest  isFraud  isFlaggedFraud\n",
              "0     1   PAYMENT   9839.64  ...            0.0        0               0\n",
              "1     1   PAYMENT   1864.28  ...            0.0        0               0\n",
              "2     1  TRANSFER    181.00  ...            0.0        1               0\n",
              "3     1  CASH_OUT    181.00  ...            0.0        1               0\n",
              "4     1   PAYMENT  11668.14  ...            0.0        0               0\n",
              "\n",
              "[5 rows x 11 columns]"
            ]
          },
          "metadata": {
            "tags": []
          },
          "execution_count": 9
        }
      ]
    },
    {
      "cell_type": "code",
      "metadata": {
        "colab": {
          "base_uri": "https://localhost:8080/"
        },
        "id": "_BK2s4eSJVUm",
        "outputId": "7a68b100-0aab-4569-a4f5-239072f97443"
      },
      "source": [
        "finInfo.isnull().values.any()\n",
        "print(finInfo.dtypes)"
      ],
      "execution_count": null,
      "outputs": [
        {
          "output_type": "stream",
          "text": [
            "step                int64\n",
            "type               object\n",
            "amount            float64\n",
            "nameOrig           object\n",
            "oldbalanceOrg     float64\n",
            "newbalanceOrig    float64\n",
            "nameDest           object\n",
            "oldbalanceDest    float64\n",
            "newbalanceDest    float64\n",
            "isFraud             int64\n",
            "isFlaggedFraud      int64\n",
            "dtype: object\n"
          ],
          "name": "stdout"
        }
      ]
    },
    {
      "cell_type": "code",
      "metadata": {
        "colab": {
          "base_uri": "https://localhost:8080/",
          "height": 204
        },
        "id": "v-FrH1xj7OgG",
        "outputId": "0831fe7c-94a5-4739-ca92-333d1fbe1e8a"
      },
      "source": [
        "encoder = LabelEncoder()\n",
        "typeTransaction = finInfo['type']\n",
        "nameO = finInfo['nameOrig']\n",
        "nameD = finInfo['nameDest']\n",
        "#finInfo.drop(columns='step', inplace=True)\n",
        "finInfo['nameOrig'] = encoder.fit_transform(nameO)\n",
        "finInfo['nameDest'] = encoder.fit_transform(nameD)\n",
        "finInfo['type'] = encoder.fit_transform(typeTransaction)\n",
        "finInfo.head()"
      ],
      "execution_count": null,
      "outputs": [
        {
          "output_type": "execute_result",
          "data": {
            "text/html": [
              "<div>\n",
              "<style scoped>\n",
              "    .dataframe tbody tr th:only-of-type {\n",
              "        vertical-align: middle;\n",
              "    }\n",
              "\n",
              "    .dataframe tbody tr th {\n",
              "        vertical-align: top;\n",
              "    }\n",
              "\n",
              "    .dataframe thead th {\n",
              "        text-align: right;\n",
              "    }\n",
              "</style>\n",
              "<table border=\"1\" class=\"dataframe\">\n",
              "  <thead>\n",
              "    <tr style=\"text-align: right;\">\n",
              "      <th></th>\n",
              "      <th>step</th>\n",
              "      <th>type</th>\n",
              "      <th>amount</th>\n",
              "      <th>nameOrig</th>\n",
              "      <th>oldbalanceOrg</th>\n",
              "      <th>newbalanceOrig</th>\n",
              "      <th>nameDest</th>\n",
              "      <th>oldbalanceDest</th>\n",
              "      <th>newbalanceDest</th>\n",
              "      <th>isFraud</th>\n",
              "      <th>isFlaggedFraud</th>\n",
              "    </tr>\n",
              "  </thead>\n",
              "  <tbody>\n",
              "    <tr>\n",
              "      <th>0</th>\n",
              "      <td>1</td>\n",
              "      <td>3</td>\n",
              "      <td>9839.64</td>\n",
              "      <td>757869</td>\n",
              "      <td>170136.0</td>\n",
              "      <td>160296.36</td>\n",
              "      <td>1662094</td>\n",
              "      <td>0.0</td>\n",
              "      <td>0.0</td>\n",
              "      <td>0</td>\n",
              "      <td>0</td>\n",
              "    </tr>\n",
              "    <tr>\n",
              "      <th>1</th>\n",
              "      <td>1</td>\n",
              "      <td>3</td>\n",
              "      <td>1864.28</td>\n",
              "      <td>2188998</td>\n",
              "      <td>21249.0</td>\n",
              "      <td>19384.72</td>\n",
              "      <td>1733924</td>\n",
              "      <td>0.0</td>\n",
              "      <td>0.0</td>\n",
              "      <td>0</td>\n",
              "      <td>0</td>\n",
              "    </tr>\n",
              "    <tr>\n",
              "      <th>2</th>\n",
              "      <td>1</td>\n",
              "      <td>4</td>\n",
              "      <td>181.00</td>\n",
              "      <td>1002156</td>\n",
              "      <td>181.0</td>\n",
              "      <td>0.00</td>\n",
              "      <td>439685</td>\n",
              "      <td>0.0</td>\n",
              "      <td>0.0</td>\n",
              "      <td>1</td>\n",
              "      <td>0</td>\n",
              "    </tr>\n",
              "    <tr>\n",
              "      <th>3</th>\n",
              "      <td>1</td>\n",
              "      <td>1</td>\n",
              "      <td>181.00</td>\n",
              "      <td>5828262</td>\n",
              "      <td>181.0</td>\n",
              "      <td>0.00</td>\n",
              "      <td>391696</td>\n",
              "      <td>21182.0</td>\n",
              "      <td>0.0</td>\n",
              "      <td>1</td>\n",
              "      <td>0</td>\n",
              "    </tr>\n",
              "    <tr>\n",
              "      <th>4</th>\n",
              "      <td>1</td>\n",
              "      <td>3</td>\n",
              "      <td>11668.14</td>\n",
              "      <td>3445981</td>\n",
              "      <td>41554.0</td>\n",
              "      <td>29885.86</td>\n",
              "      <td>828919</td>\n",
              "      <td>0.0</td>\n",
              "      <td>0.0</td>\n",
              "      <td>0</td>\n",
              "      <td>0</td>\n",
              "    </tr>\n",
              "  </tbody>\n",
              "</table>\n",
              "</div>"
            ],
            "text/plain": [
              "   step  type    amount  ...  newbalanceDest  isFraud  isFlaggedFraud\n",
              "0     1     3   9839.64  ...             0.0        0               0\n",
              "1     1     3   1864.28  ...             0.0        0               0\n",
              "2     1     4    181.00  ...             0.0        1               0\n",
              "3     1     1    181.00  ...             0.0        1               0\n",
              "4     1     3  11668.14  ...             0.0        0               0\n",
              "\n",
              "[5 rows x 11 columns]"
            ]
          },
          "metadata": {
            "tags": []
          },
          "execution_count": 5
        }
      ]
    },
    {
      "cell_type": "code",
      "metadata": {
        "colab": {
          "base_uri": "https://localhost:8080/",
          "height": 567
        },
        "id": "EkKzitufIBA7",
        "outputId": "e8cae6c5-58f4-4cde-f866-7ed24de4e6b4"
      },
      "source": [
        "\n",
        "Correlation = finInfo.corr()\n",
        "plt.figure(figsize=(10,5))\n",
        "sns.heatmap(Correlation, xticklabels=Correlation.columns, yticklabels=Correlation.columns, annot=True, linewidth = 1.5)\n",
        "Correlation.sort_values(by=[\"isFraud\"],ascending=False,inplace=True)\n",
        "Correlation[\"isFraud\"][1:]"
      ],
      "execution_count": null,
      "outputs": [
        {
          "output_type": "execute_result",
          "data": {
            "text/plain": [
              "amount            0.076688\n",
              "isFlaggedFraud    0.044109\n",
              "type              0.020833\n",
              "oldbalanceOrg     0.010154\n",
              "newbalanceDest    0.000535\n",
              "nameOrig         -0.000464\n",
              "oldbalanceDest   -0.005885\n",
              "newbalanceOrig   -0.008148\n",
              "nameDest         -0.021963\n",
              "Name: isFraud, dtype: float64"
            ]
          },
          "metadata": {
            "tags": []
          },
          "execution_count": 4
        },
        {
          "output_type": "display_data",
          "data": {
            "image/png": "[encoded data removed]",
            "text/plain": [
              "<Figure size 720x360 with 2 Axes>"
            ]
          },
          "metadata": {
            "tags": [],
            "needs_background": "light"
          }
        }
      ]
    },
    {
      "cell_type": "markdown",
      "metadata": {
        "id": "qAXizTP0ykaK"
      },
      "source": [
        "**KNN with all features**"
      ]
    },
    {
      "cell_type": "code",
      "metadata": {
        "colab": {
          "base_uri": "https://localhost:8080/",
          "height": 330
        },
        "id": "j_LJ5on42kLi",
        "outputId": "95325827-633f-4beb-9972-98bb80d66e80"
      },
      "source": [
        "#500 neighbors because 2270 is supposed to be optimal but 1000-2270 crashes runtime by using up all the ram\n",
        "y = finInfo['isFraud']\n",
        "X = finInfo.drop(columns=['isFraud'])\n",
        "X_train, X_test, y_train, y_test = train_test_split(X, y, test_size=0.25, random_state=42)\n",
        "knn = KNeighborsClassifier(n_neighbors=300)\n",
        "knn.fit(X_train,y_train)\n",
        "y_pred = knn.predict(X_test)\n",
        "\n",
        "print(accuracy_score(y_test, y_pred))\n",
        "y_pred_prob = knn.predict_proba(X_test)\n",
        "print(\"ROC_AUC_SCORE:\",roc_auc_score(y_test,y_pred_prob[:,1]))\n",
        "metrics.plot_roc_curve(knn, X_test, y_test)"
      ],
      "execution_count": null,
      "outputs": [
        {
          "output_type": "stream",
          "text": [
            "0.9990532202143142\n",
            "ROC_AUC_SCORE: 0.9410607040039879\n"
          ],
          "name": "stdout"
        },
        {
          "output_type": "execute_result",
          "data": {
            "text/plain": [
              "<sklearn.metrics._plot.roc_curve.RocCurveDisplay at 0x7f435b6ea350>"
            ]
          },
          "metadata": {
            "tags": []
          },
          "execution_count": 8
        },
        {
          "output_type": "display_data",
          "data": {
            "image/png": "[encoded data removed]",
            "text/plain": [
              "<Figure size 432x288 with 1 Axes>"
            ]
          },
          "metadata": {
            "tags": [],
            "needs_background": "light"
          }
        }
      ]
    },
    {
      "cell_type": "code",
      "metadata": {
        "colab": {
          "base_uri": "https://localhost:8080/",
          "height": 307
        },
        "id": "rWD9mC-pGMcX",
        "outputId": "56cae6bd-82c1-4d35-f85f-44db32c9e16d"
      },
      "source": [
        "plot_confusion_matrix(knn, X_test, y_test) "
      ],
      "execution_count": null,
      "outputs": [
        {
          "output_type": "execute_result",
          "data": {
            "text/plain": [
              "<sklearn.metrics._plot.confusion_matrix.ConfusionMatrixDisplay at 0x7f431ea9bfd0>"
            ]
          },
          "metadata": {
            "tags": []
          },
          "execution_count": 9
        },
        {
          "output_type": "display_data",
          "data": {
            "image/png": "[encoded data removed]",
            "text/plain": [
              "<Figure size 432x288 with 2 Axes>"
            ]
          },
          "metadata": {
            "tags": [],
            "needs_background": "light"
          }
        }
      ]
    },
    {
      "cell_type": "markdown",
      "metadata": {
        "id": "hrcghlCLyXcf"
      },
      "source": [
        "**KNN with features selected**"
      ]
    },
    {
      "cell_type": "code",
      "metadata": {
        "colab": {
          "base_uri": "https://localhost:8080/",
          "height": 204
        },
        "id": "cq8S0056hWoG",
        "outputId": "a46a41a5-0ae9-4562-ddbf-7e2bd75a8053"
      },
      "source": [
        "y = finInfo['isFraud']\n",
        "X = finInfo.drop(['isFraud','newbalanceDest','nameOrig','oldbalanceDest','newbalanceOrig'], axis = 1)\n",
        "X.head()"
      ],
      "execution_count": null,
      "outputs": [
        {
          "output_type": "execute_result",
          "data": {
            "text/html": [
              "<div>\n",
              "<style scoped>\n",
              "    .dataframe tbody tr th:only-of-type {\n",
              "        vertical-align: middle;\n",
              "    }\n",
              "\n",
              "    .dataframe tbody tr th {\n",
              "        vertical-align: top;\n",
              "    }\n",
              "\n",
              "    .dataframe thead th {\n",
              "        text-align: right;\n",
              "    }\n",
              "</style>\n",
              "<table border=\"1\" class=\"dataframe\">\n",
              "  <thead>\n",
              "    <tr style=\"text-align: right;\">\n",
              "      <th></th>\n",
              "      <th>step</th>\n",
              "      <th>type</th>\n",
              "      <th>amount</th>\n",
              "      <th>oldbalanceOrg</th>\n",
              "      <th>nameDest</th>\n",
              "      <th>isFlaggedFraud</th>\n",
              "    </tr>\n",
              "  </thead>\n",
              "  <tbody>\n",
              "    <tr>\n",
              "      <th>0</th>\n",
              "      <td>1</td>\n",
              "      <td>3</td>\n",
              "      <td>9839.64</td>\n",
              "      <td>170136.0</td>\n",
              "      <td>1662094</td>\n",
              "      <td>0</td>\n",
              "    </tr>\n",
              "    <tr>\n",
              "      <th>1</th>\n",
              "      <td>1</td>\n",
              "      <td>3</td>\n",
              "      <td>1864.28</td>\n",
              "      <td>21249.0</td>\n",
              "      <td>1733924</td>\n",
              "      <td>0</td>\n",
              "    </tr>\n",
              "    <tr>\n",
              "      <th>2</th>\n",
              "      <td>1</td>\n",
              "      <td>4</td>\n",
              "      <td>181.00</td>\n",
              "      <td>181.0</td>\n",
              "      <td>439685</td>\n",
              "      <td>0</td>\n",
              "    </tr>\n",
              "    <tr>\n",
              "      <th>3</th>\n",
              "      <td>1</td>\n",
              "      <td>1</td>\n",
              "      <td>181.00</td>\n",
              "      <td>181.0</td>\n",
              "      <td>391696</td>\n",
              "      <td>0</td>\n",
              "    </tr>\n",
              "    <tr>\n",
              "      <th>4</th>\n",
              "      <td>1</td>\n",
              "      <td>3</td>\n",
              "      <td>11668.14</td>\n",
              "      <td>41554.0</td>\n",
              "      <td>828919</td>\n",
              "      <td>0</td>\n",
              "    </tr>\n",
              "  </tbody>\n",
              "</table>\n",
              "</div>"
            ],
            "text/plain": [
              "   step  type    amount  oldbalanceOrg  nameDest  isFlaggedFraud\n",
              "0     1     3   9839.64       170136.0   1662094               0\n",
              "1     1     3   1864.28        21249.0   1733924               0\n",
              "2     1     4    181.00          181.0    439685               0\n",
              "3     1     1    181.00          181.0    391696               0\n",
              "4     1     3  11668.14        41554.0    828919               0"
            ]
          },
          "metadata": {
            "tags": []
          },
          "execution_count": 6
        }
      ]
    },
    {
      "cell_type": "code",
      "metadata": {
        "id": "-Cpl8_cD7F4Z"
      },
      "source": [
        "X_train, X_test, y_train, y_test = train_test_split(X, y, test_size=0.25, random_state=42)"
      ],
      "execution_count": null,
      "outputs": []
    },
    {
      "cell_type": "code",
      "metadata": {
        "id": "d9nkkbPchnCL"
      },
      "source": [
        "#300 neighbors because 2270 is supposed to be optimal but 500-2270 crashes runtime by using up all the ram\n",
        "knnFeatureExtract = KNeighborsClassifier(n_neighbors=8)\n",
        "knnFeatureExtract.fit(X_train,y_train)\n",
        "y_pred = knnFeatureExtract.predict(X_test)"
      ],
      "execution_count": null,
      "outputs": []
    },
    {
      "cell_type": "code",
      "metadata": {
        "id": "aMkjz1nftFnX",
        "colab": {
          "base_uri": "https://localhost:8080/",
          "height": 603
        },
        "outputId": "21529271-756f-4e8f-a54f-4f5e62b72dc5"
      },
      "source": [
        "y_pred_prob = knnFeatureExtract.predict_proba(X_test)\n",
        "print(\"Accuracy:\", accuracy_score(y_test, y_pred))\n",
        "print(\"ROC_AUC_SCORE:\",roc_auc_score(y_test,y_pred_prob[:,1]))\n",
        "metrics.plot_roc_curve(knnFeatureExtract, X_test, y_test)\n",
        "plot_confusion_matrix(knnFeatureExtract, X_test, y_test) "
      ],
      "execution_count": null,
      "outputs": [
        {
          "output_type": "stream",
          "text": [
            "Accuracy: 0.9992160462199534\n",
            "ROC_AUC_SCORE: 0.9067959340260078\n"
          ],
          "name": "stdout"
        },
        {
          "output_type": "execute_result",
          "data": {
            "text/plain": [
              "<sklearn.metrics._plot.confusion_matrix.ConfusionMatrixDisplay at 0x7fe81e608cd0>"
            ]
          },
          "metadata": {
            "tags": []
          },
          "execution_count": 17
        },
        {
          "output_type": "display_data",
          "data": {
            "image/png": "[encoded data removed]",
            "text/plain": [
              "<Figure size 432x288 with 1 Axes>"
            ]
          },
          "metadata": {
            "tags": [],
            "needs_background": "light"
          }
        },
        {
          "output_type": "display_data",
          "data": {
            "image/png": "[encoded data removed]",
            "text/plain": [
              "<Figure size 432x288 with 2 Axes>"
            ]
          },
          "metadata": {
            "tags": [],
            "needs_background": "light"
          }
        }
      ]
    },
    {
      "cell_type": "code",
      "metadata": {
        "colab": {
          "base_uri": "https://localhost:8080/",
          "height": 603
        },
        "id": "jDKVMklyOROA",
        "outputId": "019ff67c-ae1a-444b-e029-15eef78cd443"
      },
      "source": [
        "knnFeatureExtract = KNeighborsClassifier(n_neighbors=300)\n",
        "knnFeatureExtract.fit(X_train,y_train)\n",
        "y_pred = knnFeatureExtract.predict(X_test)\n",
        "y_pred_prob = knnFeatureExtract.predict_proba(X_test)\n",
        "print(\"Accuracy:\", accuracy_score(y_test, y_pred))\n",
        "print(\"ROC_AUC_SCORE:\",roc_auc_score(y_test,y_pred_prob[:,1]))\n",
        "metrics.plot_roc_curve(knnFeatureExtract, X_test, y_test)\n",
        "plot_confusion_matrix(knnFeatureExtract, X_test, y_test) "
      ],
      "execution_count": null,
      "outputs": [
        {
          "output_type": "stream",
          "text": [
            "Accuracy: 0.9991374622403978\n",
            "ROC_AUC_SCORE: 0.9902507081701062\n"
          ],
          "name": "stdout"
        },
        {
          "output_type": "execute_result",
          "data": {
            "text/plain": [
              "<sklearn.metrics._plot.confusion_matrix.ConfusionMatrixDisplay at 0x7f93512d4450>"
            ]
          },
          "metadata": {
            "tags": []
          },
          "execution_count": 8
        },
        {
          "output_type": "display_data",
          "data": {
            "image/png": "[encoded data removed]",
            "text/plain": [
              "<Figure size 432x288 with 1 Axes>"
            ]
          },
          "metadata": {
            "tags": [],
            "needs_background": "light"
          }
        },
        {
          "output_type": "display_data",
          "data": {
            "image/png": "[encoded data removed]",
            "text/plain": [
              "<Figure size 432x288 with 2 Axes>"
            ]
          },
          "metadata": {
            "tags": [],
            "needs_background": "light"
          }
        }
      ]
    },
    {
      "cell_type": "code",
      "metadata": {
        "colab": {
          "base_uri": "https://localhost:8080/"
        },
        "id": "tJwXSMRwsp2q",
        "outputId": "b7d00946-10e9-4012-c137-ca5b6fdcf29d"
      },
      "source": [
        "X_train, X_test, y_train, y_test = train_test_split(X, y, test_size=0.8, random_state=42)\n",
        "print('Feature  Accuracy - type')\n",
        "labels = ['type', 'amount', 'oldbalanceOrg', 'nameDest', 'isFlaggedFraud']\n",
        "knnFeatureExtract = KNeighborsClassifier(n_neighbors=8)\n",
        "X1 = X_train.drop(['amount','oldbalanceOrg','nameDest', 'isFlaggedFraud'], axis = 1)\n",
        "cv_scores = cross_val_score(knnFeatureExtract, X1, y_train, cv=3, scoring = 'accuracy')\n",
        "average = cv_scores.mean()\n",
        "print(\"Feature - type and the score average is \" +str(average))"
      ],
      "execution_count": null,
      "outputs": [
        {
          "output_type": "stream",
          "text": [
            "Feature  Accuracy - type\n",
            "Feature - type and the score average is 0.9989485463646606\n"
          ],
          "name": "stdout"
        }
      ]
    },
    {
      "cell_type": "code",
      "metadata": {
        "colab": {
          "base_uri": "https://localhost:8080/"
        },
        "id": "uC9VgCnFIDEn",
        "outputId": "bcbb1c11-0ded-4441-d88d-ee5605621ed0"
      },
      "source": [
        "X_train, X_test, y_train, y_test = train_test_split(X, y, test_size=0.8, random_state=42)\n",
        "print('Feature  Accuracy - amount')\n",
        "labels = ['type', 'amount', 'oldbalanceOrg', 'nameDest', 'isFlaggedFraud']\n",
        "knnFeatureExtract = KNeighborsClassifier(n_neighbors=8)\n",
        "X1 = X_train.drop(['type','oldbalanceOrg','nameDest', 'isFlaggedFraud'], axis = 1)\n",
        "cv_scores = cross_val_score(knnFeatureExtract, X1, y_train, cv=3, scoring = 'accuracy')\n",
        "average = cv_scores.mean()\n",
        "print(\"Feature - type and the score average is \" +str(average))"
      ],
      "execution_count": null,
      "outputs": [
        {
          "output_type": "stream",
          "text": [
            "Feature  Accuracy - amount\n",
            "Feature - type and the score average is 0.9987638740022066\n"
          ],
          "name": "stdout"
        }
      ]
    },
    {
      "cell_type": "code",
      "metadata": {
        "colab": {
          "base_uri": "https://localhost:8080/"
        },
        "id": "6hVWXS1MIezG",
        "outputId": "52d8e7ae-3bf5-4831-a52a-53726c9b7527"
      },
      "source": [
        "X_train, X_test, y_train, y_test = train_test_split(X, y, test_size=0.8, random_state=42)\n",
        "print('Feature  Accuracy - oldbalanceOrg')\n",
        "labels = ['type', 'amount', 'oldbalanceOrg', 'nameDest', 'isFlaggedFraud']\n",
        "knnFeatureExtract = KNeighborsClassifier(n_neighbors=8)\n",
        "X1 = X_train.drop(['type','amount','nameDest', 'isFlaggedFraud'], axis = 1)\n",
        "cv_scores = cross_val_score(knnFeatureExtract, X1, y_train, cv=3, scoring = 'accuracy')\n",
        "average = cv_scores.mean()\n",
        "print(\"Feature - type and the score average is \" +str(average))"
      ],
      "execution_count": null,
      "outputs": [
        {
          "output_type": "stream",
          "text": [
            "Feature  Accuracy - oldbalanceOrg\n",
            "Feature - type and the score average is 0.998760730632526\n"
          ],
          "name": "stdout"
        }
      ]
    },
    {
      "cell_type": "code",
      "metadata": {
        "colab": {
          "base_uri": "https://localhost:8080/"
        },
        "id": "PSiIAhMzeJZu",
        "outputId": "62e220a1-b08a-4416-a9b0-23885ee90dca"
      },
      "source": [
        "X_train, X_test, y_train, y_test = train_test_split(X, y, test_size=0.8, random_state=42)\n",
        "print('Feature  Accuracy - nameDest')\n",
        "labels = ['type', 'amount', 'oldbalanceOrg', 'nameDest', 'isFlaggedFraud']\n",
        "knnFeatureExtract = KNeighborsClassifier(n_neighbors=8)\n",
        "X1 = X_train.drop(['type','amount','oldbalanceOrg', 'isFlaggedFraud'], axis = 1)\n",
        "cv_scores = cross_val_score(knnFeatureExtract, X1, y_train, cv=3, scoring = 'accuracy')\n",
        "average = cv_scores.mean()\n",
        "print(\"Feature - type and the score average is \" +str(average))"
      ],
      "execution_count": null,
      "outputs": [
        {
          "output_type": "stream",
          "text": [
            "Feature  Accuracy - nameDest\n",
            "Feature - type and the score average is 0.9987402988083399\n"
          ],
          "name": "stdout"
        }
      ]
    },
    {
      "cell_type": "code",
      "metadata": {
        "colab": {
          "base_uri": "https://localhost:8080/"
        },
        "id": "bdFa7i39eOy9",
        "outputId": "51bcc28d-2d8f-47e5-b564-67ca70f1682e"
      },
      "source": [
        "X_train, X_test, y_train, y_test = train_test_split(X, y, test_size=0.8, random_state=42)\n",
        "print('Feature  Accuracy - isFlaggedFraud')\n",
        "labels = ['type', 'amount', 'oldbalanceOrg', 'nameDest', 'isFlaggedFraud']\n",
        "knnFeatureExtract = KNeighborsClassifier(n_neighbors=8)\n",
        "X1 = X_train.drop(['type','amount','oldbalanceOrg', 'nameDest'], axis = 1)\n",
        "cv_scores = cross_val_score(knnFeatureExtract, X1, y_train, cv=3, scoring = 'accuracy')\n",
        "average = cv_scores.mean()\n",
        "print(\"Feature - type and the score average is \" +str(average))"
      ],
      "execution_count": null,
      "outputs": [
        {
          "output_type": "stream",
          "text": [
            "Feature  Accuracy - isFlaggedFraud\n",
            "Feature - type and the score average is 0.9990326312215503\n"
          ],
          "name": "stdout"
        }
      ]
    },
    {
      "cell_type": "code",
      "metadata": {
        "colab": {
          "base_uri": "https://localhost:8080/"
        },
        "id": "b8jsbWMUzLYU",
        "outputId": "c3e372f1-3be1-4061-f028-74d6b78fa7fa"
      },
      "source": [
        "k_range = list(range(1,50))\n",
        "accuraciesMinMax = []\n",
        "for k in k_range:\n",
        "    if k%2 != 0:\n",
        "        knnFeatureExtract = KNeighborsClassifier(n_neighbors = k)\n",
        "        cv_scores = cross_val_score(knnFeatureExtract, X_train, y_train, cv=3, scoring = 'accuracy')\n",
        "        average = cv_scores.mean()\n",
        "        accuraciesMinMax.append(average)\n",
        "        print(\"K value = \" + str(k) + \" and the score average is \" +str(average))\n"
      ],
      "execution_count": null,
      "outputs": [
        {
          "output_type": "stream",
          "text": [
            "K value = 1 and the score average is 0.9990324740437115\n",
            "K value = 3 and the score average is 0.9992648730659174\n",
            "K value = 5 and the score average is 0.9992613105921775\n",
            "K value = 7 and the score average is 0.999237001947835\n",
            "K value = 9 and the score average is 0.9992034727832245\n",
            "K value = 11 and the score average is 0.999173506092354\n",
            "K value = 13 and the score average is 0.9991489878907327\n",
            "K value = 15 and the score average is 0.9991244696891113\n",
            "K value = 17 and the score average is 0.9991064477631332\n",
            "K value = 19 and the score average is 0.9990825582333484\n",
            "K value = 21 and the score average is 0.9990664223228795\n",
            "K value = 23 and the score average is 0.9990555253443811\n",
            "K value = 25 and the score average is 0.9990391798766337\n",
            "K value = 27 and the score average is 0.999025139538953\n",
            "K value = 29 and the score average is 0.99901151831583\n",
            "K value = 31 and the score average is 0.9990041838110715\n",
            "K value = 33 and the score average is 0.9989951728480825\n",
            "K value = 35 and the score average is 0.9989846949841418\n"
          ],
          "name": "stdout"
        }
      ]
    },
    {
      "cell_type": "code",
      "metadata": {
        "colab": {
          "base_uri": "https://localhost:8080/",
          "height": 329
        },
        "id": "_sf4THY24B5s",
        "outputId": "95340ba2-0abf-4b16-e501-2683c89b6229"
      },
      "source": [
        "import math\n",
        "accuraciesMinMax = [0.9990324740437115, 0.9992648730659174, 0.9992613105921775, 0.999237001947835, 0.9992034727832245,0.999173506092354, 0.9991489878907327,0.9991244696891113, \n",
        "                   0.9991064477631332, 0.9990825582333484, 0.9990664223228795, 0.9990555253443811, 0.9990391798766337, 0.999025139538953, 0.99901151831583,0.9990041838110715,\n",
        "                   0.9989951728480825, 0.9989846949841418]\n",
        "k_range = [1,3,5,7,9,11,13,15,17,19,21,23,25,27,29,31,33,35]\n",
        "maxAccuracy = max(accuraciesMinMax)\n",
        "indexOfMax = accuraciesMinMax.index(maxAccuracy)\n",
        "k_value = indexOfMax + 1\n",
        "print(\"Best k value is \" + str(k_value) + \" with accuracy \" + str(maxAccuracy) )\n",
        "plt.plot(k_range,accuraciesMinMax)\n",
        "plt.xlabel(\"k value\")\n",
        "plt.ylabel(\"Accuracy\")\n",
        "plt.title(\"Accuracy vs k\")"
      ],
      "execution_count": null,
      "outputs": [
        {
          "output_type": "stream",
          "text": [
            "Best k value is 2 with accuracy 0.9992648730659174\n"
          ],
          "name": "stdout"
        },
        {
          "output_type": "execute_result",
          "data": {
            "text/plain": [
              "Text(0.5, 1.0, 'Accuracy vs k')"
            ]
          },
          "metadata": {
            "tags": []
          },
          "execution_count": 3
        },
        {
          "output_type": "display_data",
          "data": {
            "image/png": "[encoded data removed]",
            "text/plain": [
              "<Figure size 432x288 with 1 Axes>"
            ]
          },
          "metadata": {
            "tags": [],
            "needs_background": "light"
          }
        }
      ]
    }
  ]
}