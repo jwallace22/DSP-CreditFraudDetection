{
 "cells": [
  {
   "cell_type": "markdown",
   "metadata": {},
   "source": [
    "## EE 461P: Data Science Principles  \n",
    "### Term Project\n",
    "### Blog Due: May 13, 2021 \n",
    "### Presentation May 4, 2021\n",
    "\n",
    "\n",
    "\n"
   ]
  },
  {
   "cell_type": "code",
   "execution_count": 41,
   "metadata": {},
   "outputs": [
    {
     "name": "stdout",
     "output_type": "stream",
     "text": [
      "   step  type    amount  nameOrig  oldbalanceOrg  newbalanceOrig  nameDest  \\\n",
      "0     1     3   9839.64    757869       170136.0       160296.36   1662094   \n",
      "1     1     3   1864.28   2188998        21249.0        19384.72   1733924   \n",
      "2     1     4    181.00   1002156          181.0            0.00    439685   \n",
      "3     1     1    181.00   5828262          181.0            0.00    391696   \n",
      "4     1     3  11668.14   3445981        41554.0        29885.86    828919   \n",
      "\n",
      "   oldbalanceDest  newbalanceDest  isFraud  isFlaggedFraud  \n",
      "0             0.0             0.0        0               0  \n",
      "1             0.0             0.0        0               0  \n",
      "2             0.0             0.0        1               0  \n",
      "3         21182.0             0.0        1               0  \n",
      "4             0.0             0.0        0               0  \n",
      "data loaded\n"
     ]
    }
   ],
   "source": [
    "from sklearn import linear_model\n",
    "from sklearn.linear_model import LinearRegression\n",
    "from sklearn.model_selection import train_test_split\n",
    "from sklearn.feature_selection import SequentialFeatureSelector\n",
    "import os, sys, re\n",
    "import time\n",
    "import numpy as np\n",
    "import pandas as pd\n",
    "from sklearn.model_selection import train_test_split\n",
    "from sklearn.preprocessing import MinMaxScaler,StandardScaler\n",
    "from sklearn.metrics import plot_roc_curve \n",
    "import matplotlib.pyplot as plt\n",
    "\n",
    "from sklearn.metrics import r2_score\n",
    "from sklearn.naive_bayes import BernoulliNB\n",
    "\n",
    "#Load dataset from csv file\n",
    "df = pd.read_csv(\"PS_20174392719_1491204439457_log.csv\")\n",
    "df.drop(columns=['isFlaggedFraud'])\n",
    "for col in [\"type\",\"nameOrig\",\"nameDest\"]:\n",
    "    df[col] = df[col].astype('category')\n",
    "    df[col] = df[col].cat.codes\n",
    "print(df.head())\n",
    "fraud_rows = df[df['isFraud']==1].copy()\n",
    "not_fraud_rows = df[df['isFraud']==0].copy()\n",
    "X = df\n",
    "y = df.pop(\"isFraud\")\n",
    "X_tr, X_te, y_tr, y_te = train_test_split(X,y, test_size=0.25, random_state = 42)\n",
    "bnb = BernoulliNB(fit_prior=True)\n",
    "\n",
    "f_y = fraud_rows.pop(\"isFraud\")\n",
    "f_x = fraud_rows\n",
    "nf_y = not_fraud_rows.pop(\"isFraud\")\n",
    "nf_x = not_fraud_rows\n",
    "print(\"data loaded\")"
   ]
  },
  {
   "cell_type": "code",
   "execution_count": null,
   "metadata": {},
   "outputs": [],
   "source": []
  },
  {
   "cell_type": "code",
   "execution_count": 42,
   "metadata": {},
   "outputs": [
    {
     "name": "stdout",
     "output_type": "stream",
     "text": [
      "Model Accuracy on All Test Data: 0.9987181381254892\n",
      "Model Accuracy for predicting true fraud: 0.0019481310118105442\n",
      "Model Accuracy for predicting true not fraud: 1.0\n",
      "6\n",
      "2045\n"
     ]
    }
   ],
   "source": [
    "bnb.fit(X_tr,y_tr)\n",
    "print(\"Model Accuracy on All Test Data: {}\".format(bnb.score(X_te,y_te)))\n",
    "print(\"Model Accuracy for predicting true fraud: {}\".format(bnb.score(f_x,f_y)))\n",
    "print(\"Model Accuracy for predicting true not fraud: {}\".format(bnb.score(nf_x,nf_y)))\n",
    "print(sum(bnb.predict(X_te)))\n",
    "print(sum(y_te))"
   ]
  },
  {
   "cell_type": "code",
   "execution_count": null,
   "metadata": {},
   "outputs": [],
   "source": []
  }
 ],
 "metadata": {
  "kernelspec": {
   "display_name": "Python 3",
   "language": "python",
   "name": "python3"
  },
  "language_info": {
   "codemirror_mode": {
    "name": "ipython",
    "version": 3
   },
   "file_extension": ".py",
   "mimetype": "text/x-python",
   "name": "python",
   "nbconvert_exporter": "python",
   "pygments_lexer": "ipython3",
   "version": "3.7.3"
  }
 },
 "nbformat": 4,
 "nbformat_minor": 2
}
